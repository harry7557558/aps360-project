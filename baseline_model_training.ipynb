{
 "cells": [
  {
   "cell_type": "code",
   "execution_count": 16,
   "metadata": {},
   "outputs": [
    {
     "ename": "TypeError",
     "evalue": "DiscriminatorModel.__init__() missing 1 required positional argument: 'slope'",
     "output_type": "error",
     "traceback": [
      "\u001b[0;31m---------------------------------------------------------------------------\u001b[0m",
      "\u001b[0;31mTypeError\u001b[0m                                 Traceback (most recent call last)",
      "\u001b[1;32m/home/tux/school/360/360-proj/baseline_model_training.ipynb Cell 1\u001b[0m line \u001b[0;36m1\n\u001b[1;32m     <a href='vscode-notebook-cell:/home/tux/school/360/360-proj/baseline_model_training.ipynb#W0sZmlsZQ%3D%3D?line=12'>13</a>\u001b[0m loss_fn \u001b[39m=\u001b[39m CombinedLoss(\u001b[39m0.0\u001b[39m, \u001b[39m1.0\u001b[39m, \u001b[39m1.0\u001b[39m, \u001b[39m1.0\u001b[39m, \u001b[39m4.0\u001b[39m)\n\u001b[1;32m     <a href='vscode-notebook-cell:/home/tux/school/360/360-proj/baseline_model_training.ipynb#W0sZmlsZQ%3D%3D?line=13'>14</a>\u001b[0m outputs \u001b[39m=\u001b[39m []\n\u001b[0;32m---> <a href='vscode-notebook-cell:/home/tux/school/360/360-proj/baseline_model_training.ipynb#W0sZmlsZQ%3D%3D?line=14'>15</a>\u001b[0m discriminator \u001b[39m=\u001b[39m DiscriminatorModel(\u001b[39m3\u001b[39;49m, \u001b[39m8\u001b[39;49m)\n\u001b[1;32m     <a href='vscode-notebook-cell:/home/tux/school/360/360-proj/baseline_model_training.ipynb#W0sZmlsZQ%3D%3D?line=16'>17</a>\u001b[0m \u001b[39m# Loop\u001b[39;00m\n\u001b[1;32m     <a href='vscode-notebook-cell:/home/tux/school/360/360-proj/baseline_model_training.ipynb#W0sZmlsZQ%3D%3D?line=17'>18</a>\u001b[0m \u001b[39mfor\u001b[39;00m lr_batch, hr_batch \u001b[39min\u001b[39;00m test_dl:\n",
      "\u001b[0;31mTypeError\u001b[0m: DiscriminatorModel.__init__() missing 1 required positional argument: 'slope'"
     ]
    }
   ],
   "source": [
    "from baseline_model import baseline_bicubic\n",
    "from data_sets_loaders import get_train_val_test_dataloaders\n",
    "import matplotlib.pyplot as plt\n",
    "import torch\n",
    "import numpy as np\n",
    "from loss_functions import CombinedLoss\n",
    "from discriminator_model import DiscriminatorModel\n",
    "\n",
    "cropped_dir = \"./cropped_images\"\n",
    "train_dl, val_dl, test_dl = get_train_val_test_dataloaders(100)\n",
    "\n",
    "total_loss = 0\n",
    "loss_fn = CombinedLoss(0.0, 1.0, 1.0, 1.0, 4.0)\n",
    "outputs = []\n",
    "discriminator = DiscriminatorModel(3, 8, 0.3)\n",
    "\n",
    "# Loop\n",
    "for lr_batch, hr_batch in test_dl:\n",
    "\tfor i, image in enumerate(lr_batch):\n",
    "\t\toutput = baseline_bicubic(image)\n",
    "\t\toutputs.append(output)\n",
    "\t\tloss = loss_fn(output, hr_batch[i], discriminator(output) * 0)\n",
    "\t\ttotal_loss += loss\n",
    "\t\n",
    "print(\"Loss: \" + str(total_loss / len(outputs)))\n",
    "\n",
    "print(\"Example Result\")\n",
    "fig = plt.figure()\n",
    "for lr_batch, hr_batch in test_dl:\n",
    "\tfor image in hr_batch:\n",
    "\t\tfig.add_subplot(1, 2, 1) \n",
    "\t\tplt.imshow(np.transpose(image))\n",
    "\t\tplt.axis('off')\n",
    "\t\tplt.title(\"Original High Resolution\") \n",
    "\t\tfig.add_subplot(1, 2, 2) \n",
    "\t\tplt.imshow(np.transpose(outputs))\n",
    "\t\tplt.axis('off')\n",
    "\t\tplt.title(\"Generated High Resolution\") \n",
    "\t\tbreak\n",
    "\tbreak\n",
    "plt.show()\n"
   ]
  }
 ],
 "metadata": {
  "kernelspec": {
   "display_name": "Python 3",
   "language": "python",
   "name": "python3"
  },
  "language_info": {
   "codemirror_mode": {
    "name": "ipython",
    "version": 3
   },
   "file_extension": ".py",
   "mimetype": "text/x-python",
   "name": "python",
   "nbconvert_exporter": "python",
   "pygments_lexer": "ipython3",
   "version": "3.10.12"
  }
 },
 "nbformat": 4,
 "nbformat_minor": 2
}
