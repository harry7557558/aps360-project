{
 "cells": [
  {
   "cell_type": "code",
   "execution_count": 1,
   "metadata": {},
   "outputs": [],
   "source": [
    "from baseline_model import baseline_bicubic\n",
    "from data_sets_loaders import get_train_val_test_dataloaders\n",
    "import matplotlib.pyplot as plt\n",
    "import torch\n",
    "import numpy as np\n",
    "from loss_functions import CombinedLoss\n",
    "from discriminator_model import DiscriminatorModel\n",
    "\n",
    "cropped_dir = \"./cropped_images\"\n",
    "train_dl, val_dl, test_dl = get_train_val_test_dataloaders(100)\n",
    "\n",
    "device = 'cuda' if torch.cuda.is_available() else 'cpu'"
   ]
  },
  {
   "cell_type": "code",
   "execution_count": 2,
   "metadata": {},
   "outputs": [],
   "source": [
    "def test_prototype_model(test_dl, upscale_model, discriminator_model, criterion):\n",
    "    \n",
    "    test_loss = 0.0\n",
    "    num_batches = len(test_dl)\n",
    "    \n",
    "    with torch.no_grad():\n",
    "        for inputs_lr, targets_hr in test_dl:\n",
    "            inputs_lr = inputs_lr.to(device)\n",
    "            targets_hr = targets_hr.to(device)\n",
    "            \n",
    "            generated_hr = upscale_model(inputs_lr)\n",
    "            generated_outputs = discriminator_model(generated_hr)\n",
    "            \n",
    "            loss = criterion(generated_hr, targets_hr, generated_outputs)\n",
    "            test_loss += loss.item()\n",
    "    \n",
    "    avg_test_loss = test_loss / num_batches\n",
    "    print(f\"Average Test Loss: {avg_test_loss}\")"
   ]
  },
  {
   "cell_type": "code",
   "execution_count": 3,
   "metadata": {},
   "outputs": [
    {
     "name": "stdout",
     "output_type": "stream",
     "text": [
      "Average Test Loss: 4.526735591888428\n"
     ]
    }
   ],
   "source": [
    "upscale_model = torch.load(\"final_models/model_8_64_10_12_51_g.pth\").to(device)\n",
    "discrim_model = torch.load(\"final_models/model_8_64_10_12_51_d.pth\").to(device)\n",
    "\n",
    "criterion = CombinedLoss(0.5, 1.0, 2.0, 0.0, 1.0, device)\n",
    "\n",
    "test_prototype_model(test_dl, upscale_model, discrim_model, criterion)"
   ]
  },
  {
   "cell_type": "code",
   "execution_count": 4,
   "metadata": {},
   "outputs": [
    {
     "name": "stdout",
     "output_type": "stream",
     "text": [
      "Average Test Loss: 5.4382425308227536\n"
     ]
    }
   ],
   "source": [
    "def baseline_model(x):\n",
    "    return torch.nn.functional.interpolate(x, scale_factor=3, mode='bicubic')\n",
    "\n",
    "test_prototype_model(test_dl, baseline_model, discrim_model, criterion)"
   ]
  }
 ],
 "metadata": {
  "kernelspec": {
   "display_name": "Python 3",
   "language": "python",
   "name": "python3"
  },
  "language_info": {
   "codemirror_mode": {
    "name": "ipython",
    "version": 3
   },
   "file_extension": ".py",
   "mimetype": "text/x-python",
   "name": "python",
   "nbconvert_exporter": "python",
   "pygments_lexer": "ipython3",
   "version": "3.8.10"
  }
 },
 "nbformat": 4,
 "nbformat_minor": 2
}
