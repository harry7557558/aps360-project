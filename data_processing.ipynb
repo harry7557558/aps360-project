{
 "cells": [
  {
   "cell_type": "code",
   "execution_count": 1,
   "metadata": {},
   "outputs": [],
   "source": [
    "# pip install torch torchvision\n",
    "import torch\n",
    "import os\n",
    "from os import listdir\n",
    "import torchvision.transforms as T\n",
    "import torch.nn as nn\n",
    "import PIL\n",
    "from PIL import Image\n",
    "import matplotlib.pyplot as plt\n",
    "import numpy as np\n",
    "from random import randint\n",
    "%matplotlib inline"
   ]
  },
  {
   "cell_type": "code",
   "execution_count": 2,
   "metadata": {},
   "outputs": [],
   "source": [
    "# Import data\n",
    "# https://www.kaggle.com/datasets/yashchoudhary/realsr-v3/data\n",
    "# https://github.com/ngchc/CameraSR (City100)\n",
    "# https://github.com/xiezw5/Component-Divide-and-Conquer-for-Real-World-Image-Super-Resolution?tab=readme-ov-file\n",
    "\n",
    "# First, pick the 2000 image pairs and have two folders (train and test) and in each are 2 more folders (hr and lr). \n",
    "# .   \n",
    "# ├── train\n",
    "# │   ├── HR\n",
    "# │   └── LR\n",
    "# └── test\n",
    "#     ├── HR\n",
    "#     └── LR\n",
    "# Pre-split already, 80-20 split"
   ]
  },
  {
   "cell_type": "code",
   "execution_count": 3,
   "metadata": {},
   "outputs": [],
   "source": [
    "DATASET_IMAGES_DIR = \"./images\" # Path to your directory where the images/ folder is \n",
    "CROPPED_DATASET_IMAGES_DIR = \"./cropped_images\" # Path to an empty directory for the cropped images\n",
    "\n",
    "os.makedirs(\"{}/train/HR\".format(CROPPED_DATASET_IMAGES_DIR), exist_ok=True)\n",
    "os.makedirs(\"{}/test/HR\".format(CROPPED_DATASET_IMAGES_DIR), exist_ok=True)\n",
    "os.makedirs(\"{}/train/LR\".format(CROPPED_DATASET_IMAGES_DIR), exist_ok=True)\n",
    "os.makedirs(\"{}/test/LR\".format(CROPPED_DATASET_IMAGES_DIR), exist_ok=True)\n"
   ]
  },
  {
   "cell_type": "markdown",
   "metadata": {},
   "source": [
    "Randomly crop the images and store them"
   ]
  },
  {
   "cell_type": "code",
   "execution_count": 4,
   "metadata": {},
   "outputs": [],
   "source": [
    "\n",
    "directories = [\"test\", \"train\"]\n",
    "for directory in directories:\n",
    "\t# Deal with transforming both the LR and HR images at the same time in order \n",
    "\t# to transform them the same way\n",
    "\tHR_dir = sorted(os.listdir(\"{}/{}/HR\".format(DATASET_IMAGES_DIR, directory)))\n",
    "\tLR_dir = sorted(os.listdir(\"{}/{}/LR\".format(DATASET_IMAGES_DIR, directory)))\n",
    "\tfor imageIndex,img in enumerate(LR_dir):\n",
    "\n",
    "\t\timgLR = Image.open(\"{}/{}/LR/\".format(DATASET_IMAGES_DIR, directory)+LR_dir[imageIndex])\n",
    "\t\timgHR = Image.open(\"{}/{}/HR/\".format(DATASET_IMAGES_DIR, directory)+HR_dir[imageIndex])\n",
    "\n",
    "\t\t# need to handle separately since some image pairs have same sizes while some are x3\n",
    "\t\tcrop_size = 64\n",
    "\t\tif imgLR.size == imgHR.size:  # same size, bicubic downsample\n",
    "\t\t\tw, h = imgLR.size\n",
    "\t\t\tassert w >= crop_size and h >= crop_size\n",
    "\t\t\tx0 = randint(0, w-3*crop_size-1)\n",
    "\t\t\ty0 = randint(0, h-3*crop_size-1)\n",
    "\t\t\timgLR = imgLR.crop((x0, y0, x0+3*crop_size, y0+3*crop_size))\n",
    "\t\t\timgHR = imgHR.crop((x0, y0, x0+3*crop_size, y0+3*crop_size))\n",
    "\t\t\timgLR = imgLR.resize((crop_size, crop_size), Image.BICUBIC)\n",
    "\t\telse:   # x3\n",
    "\t\t\tw, h = imgLR.size\n",
    "\t\t\tassert w >= crop_size and h >= crop_size\n",
    "\t\t\tassert imgHR.size == (3*w, 3*h)\n",
    "\t\t\tx0 = randint(0, w-crop_size-1)\n",
    "\t\t\ty0 = randint(0, h-crop_size-1)\n",
    "\t\t\timgLR = imgLR.crop((x0, y0, x0+crop_size, y0+crop_size))\n",
    "\t\t\timgHR = imgHR.crop((3*x0, 3*y0, 3*x0+3*crop_size, 3*y0+3*crop_size))\n",
    "\n",
    "\t\tassert imgLR.size == (crop_size, crop_size)\n",
    "\t\tassert imgHR.size == (3*crop_size, 3*crop_size)\n",
    "\n",
    "\t\t# Save the images in the cropped dataset folder\n",
    "\t\timgLR.save(\"{}/{}/LR/\".format(CROPPED_DATASET_IMAGES_DIR, directory)+LR_dir[imageIndex])\n",
    "\t\timgHR.save(\"{}/{}/HR/\".format(CROPPED_DATASET_IMAGES_DIR, directory)+HR_dir[imageIndex])"
   ]
  }
 ],
 "metadata": {
  "kernelspec": {
   "display_name": "Python 3",
   "language": "python",
   "name": "python3"
  },
  "language_info": {
   "codemirror_mode": {
    "name": "ipython",
    "version": 3
   },
   "file_extension": ".py",
   "mimetype": "text/x-python",
   "name": "python",
   "nbconvert_exporter": "python",
   "pygments_lexer": "ipython3",
   "version": "3.8.10"
  }
 },
 "nbformat": 4,
 "nbformat_minor": 2
}
